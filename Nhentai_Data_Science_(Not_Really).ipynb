{
  "nbformat": 4,
  "nbformat_minor": 0,
  "metadata": {
    "colab": {
      "name": "Nhentai Data Science (Not Really)",
      "private_outputs": true,
      "provenance": [],
      "collapsed_sections": [],
      "authorship_tag": "ABX9TyMAVqOLFGrBmw7Lip0ZlCFc",
      "include_colab_link": true
    },
    "kernelspec": {
      "name": "python3",
      "display_name": "Python 3"
    },
    "language_info": {
      "name": "python"
    }
  },
  "cells": [
    {
      "cell_type": "markdown",
      "metadata": {
        "id": "view-in-github",
        "colab_type": "text"
      },
      "source": [
        "<a href=\"https://colab.research.google.com/github/Itzbenz/colab.research/blob/main/Nhentai_Data_Science_(Not_Really).ipynb\" target=\"_parent\"><img src=\"https://colab.research.google.com/assets/colab-badge.svg\" alt=\"Open In Colab\"/></a>"
      ]
    },
    {
      "cell_type": "code",
      "execution_count": null,
      "metadata": {
        "id": "TnI_x2NEU5tJ"
      },
      "outputs": [],
      "source": [
        "!git clone https://github.com/shadow01148/geegee.git --depth 1"
      ]
    },
    {
      "cell_type": "code",
      "source": [
        "import os\n",
        "import matplotlib.pyplot as plt"
      ],
      "metadata": {
        "id": "67c2cwJ8VMO8"
      },
      "execution_count": null,
      "outputs": []
    },
    {
      "cell_type": "code",
      "source": [
        "data_dir =  \"geegee/g/\""
      ],
      "metadata": {
        "id": "GFjYBRn0VxP7"
      },
      "execution_count": null,
      "outputs": []
    },
    {
      "cell_type": "code",
      "source": [
        "print(len(os.listdir(data_dir)))\n",
        "print(os.listdir(data_dir)[0])"
      ],
      "metadata": {
        "id": "8Psp0vMfVWeJ"
      },
      "execution_count": null,
      "outputs": []
    },
    {
      "cell_type": "code",
      "source": [
        "counter = {}"
      ],
      "metadata": {
        "id": "fQPz4tNHW6nL"
      },
      "execution_count": null,
      "outputs": []
    },
    {
      "cell_type": "code",
      "source": [
        "def countHere(jason):\n",
        "  inb4 = 0\n",
        "  if \"total\" in counter:\n",
        "    inb4 = counter[\"total\"]\n",
        "  counter[\"total\"] = inb4 + 1\n",
        "  if 'tags' not in jason:\n",
        "    return\n",
        "  for tag in jason['tags']:\n",
        "    inb4 = 0\n",
        "    if tag['name'] in counter:\n",
        "      inb4 = counter[tag['name']]\n",
        "    counter[tag['name']] = inb4 + 1"
      ],
      "metadata": {
        "id": "6tNNXFlvVgff"
      },
      "execution_count": null,
      "outputs": []
    },
    {
      "cell_type": "code",
      "source": [
        "import json"
      ],
      "metadata": {
        "id": "q5umv2SAWhiN"
      },
      "execution_count": null,
      "outputs": []
    },
    {
      "cell_type": "code",
      "source": [
        "def readJason(id):\n",
        "  try:\n",
        "    id = str(id)\n",
        "    if not id.endswith(\".json\"):\n",
        "      id = id + \".json\"\n",
        "    return json.loads(open(data_dir+id).read())\n",
        "  except Exception as e:\n",
        "    return e"
      ],
      "metadata": {
        "id": "l0AwbVflVqtp"
      },
      "execution_count": null,
      "outputs": []
    },
    {
      "cell_type": "code",
      "source": [
        "test = readJason(os.listdir(data_dir)[0])\n",
        "print(test)\n",
        "print(test['tags'])\n",
        "print(type(test))\n",
        "print(isinstance(test,dict))"
      ],
      "metadata": {
        "id": "oasUxIgYWAXi"
      },
      "execution_count": null,
      "outputs": []
    },
    {
      "cell_type": "code",
      "source": [
        "success = 0\n",
        "for fileG in os.listdir(data_dir):\n",
        "  jason = readJason(fileG)\n",
        "  if not isinstance(jason, dict):\n",
        "    print(jason)\n",
        "    continue\n",
        "  countHere(jason)\n",
        "  success = success + 1\n",
        "print(f'Success: {success}')"
      ],
      "metadata": {
        "id": "utK8frFbXAmy"
      },
      "execution_count": null,
      "outputs": []
    },
    {
      "cell_type": "code",
      "source": [
        "print(counter)\n",
        "print(len(counter.keys()))"
      ],
      "metadata": {
        "id": "CjUzTtnYYdrM"
      },
      "execution_count": null,
      "outputs": []
    },
    {
      "cell_type": "code",
      "source": [
        "acceptableMin = counter['total']*0.001\n",
        "print(acceptableMin)"
      ],
      "metadata": {
        "id": "ppEPMl9gY0aM"
      },
      "execution_count": null,
      "outputs": []
    },
    {
      "cell_type": "code",
      "source": [
        "print(counter)\n",
        "print(len(counter.keys()))"
      ],
      "metadata": {
        "id": "itAxvOv9Zi7J"
      },
      "execution_count": null,
      "outputs": []
    },
    {
      "cell_type": "code",
      "source": [
        "deleted = 0\n",
        "before = len(counter.keys())\n",
        "for key in list(counter.keys()):\n",
        "  if counter[key] < acceptableMin:\n",
        "    del counter[key]\n",
        "    deleted = deleted + 1\n",
        "print(\"Deleted: \" + str(deleted))\n",
        "after = deleted/before\n",
        "print(str((after*100)) + \"% of tags has been deleted\")"
      ],
      "metadata": {
        "id": "MGmc9rdjZLrc"
      },
      "execution_count": null,
      "outputs": []
    },
    {
      "cell_type": "code",
      "source": [
        "counter = dict(sorted(counter.items(), key=lambda item: item[1]))"
      ],
      "metadata": {
        "id": "FmDA9CtCcfSc"
      },
      "execution_count": null,
      "outputs": []
    },
    {
      "cell_type": "code",
      "source": [
        "temp = {}\n",
        "total = counter['total']\n",
        "for tag in counter.keys():\n",
        "  temp[tag] = counter[tag]/total\n",
        "\n",
        "del temp['total']\n",
        "temp = dict(sorted(temp.items(), key=lambda item: item[1]))\n",
        "print(temp)"
      ],
      "metadata": {
        "id": "1p3_xDagc3-g"
      },
      "execution_count": null,
      "outputs": []
    },
    {
      "cell_type": "code",
      "source": [
        "temp = {}\n",
        "total = counter['total']\n",
        "for tag in counter.keys():\n",
        "  temp[tag] = counter[tag]\n",
        "\n",
        "del temp['total']\n",
        "temp = dict(sorted(temp.items(), key=lambda item: item[1]))\n",
        "print(temp)"
      ],
      "metadata": {
        "id": "UNxIpY4Cdg8i"
      },
      "execution_count": null,
      "outputs": []
    },
    {
      "cell_type": "code",
      "source": [
        "plt.plot(range(len(temp)), list(temp.values()))"
      ],
      "metadata": {
        "id": "1NKOMzgLYgkQ"
      },
      "execution_count": null,
      "outputs": []
    },
    {
      "cell_type": "code",
      "source": [
        "for tag in counter.keys():\n",
        "  print(f'{tag}: {counter[tag]}')"
      ],
      "metadata": {
        "id": "QSTRE7q0b8aQ"
      },
      "execution_count": null,
      "outputs": []
    }
  ]
}